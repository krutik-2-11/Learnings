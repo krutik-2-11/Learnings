{
  "nbformat": 4,
  "nbformat_minor": 0,
  "metadata": {
    "colab": {
      "provenance": [],
      "authorship_tag": "ABX9TyM+VLPfceOuAPMM8qI4gUvZ",
      "include_colab_link": true
    },
    "kernelspec": {
      "name": "python3",
      "display_name": "Python 3"
    },
    "language_info": {
      "name": "python"
    }
  },
  "cells": [
    {
      "cell_type": "markdown",
      "metadata": {
        "id": "view-in-github",
        "colab_type": "text"
      },
      "source": [
        "<a href=\"https://colab.research.google.com/github/krutik-2-11/Learnings/blob/main/Tweets_Fetch_Using_Essential_Access_and_storing_in_AWS_S3_Template.ipynb\" target=\"_parent\"><img src=\"https://colab.research.google.com/assets/colab-badge.svg\" alt=\"Open In Colab\"/></a>"
      ]
    },
    {
      "cell_type": "markdown",
      "source": [
        "Python code to fetch tweets from Twitter using essential access and storing it to AWS S3. The script also includes the code to fetch data from S3 and using it in a python dataframe.\n"
      ],
      "metadata": {
        "id": "4v5jfWynXEzD"
      }
    },
    {
      "cell_type": "code",
      "source": [
        "!pip install --upgrade tweepy "
      ],
      "metadata": {
        "colab": {
          "base_uri": "https://localhost:8080/",
          "height": 542
        },
        "id": "HSy0pMOb8UPh",
        "outputId": "fd8ee11d-ae1a-47e0-9cd6-6cfb56a9079e"
      },
      "execution_count": 2,
      "outputs": [
        {
          "output_type": "stream",
          "name": "stdout",
          "text": [
            "Looking in indexes: https://pypi.org/simple, https://us-python.pkg.dev/colab-wheels/public/simple/\n",
            "Requirement already satisfied: tweepy in /usr/local/lib/python3.8/dist-packages (3.10.0)\n",
            "Collecting tweepy\n",
            "  Downloading tweepy-4.12.1-py3-none-any.whl (101 kB)\n",
            "\u001b[2K     \u001b[90m━━━━━━━━━━━━━━━━━━━━━━━━━━━━━━━━━━━━━━━\u001b[0m \u001b[32m101.6/101.6 KB\u001b[0m \u001b[31m3.2 MB/s\u001b[0m eta \u001b[36m0:00:00\u001b[0m\n",
            "\u001b[?25hRequirement already satisfied: oauthlib<4,>=3.2.0 in /usr/local/lib/python3.8/dist-packages (from tweepy) (3.2.2)\n",
            "Collecting requests<3,>=2.27.0\n",
            "  Downloading requests-2.28.2-py3-none-any.whl (62 kB)\n",
            "\u001b[2K     \u001b[90m━━━━━━━━━━━━━━━━━━━━━━━━━━━━━━━━━━━━━━━━\u001b[0m \u001b[32m62.8/62.8 KB\u001b[0m \u001b[31m4.2 MB/s\u001b[0m eta \u001b[36m0:00:00\u001b[0m\n",
            "\u001b[?25hRequirement already satisfied: requests-oauthlib<2,>=1.2.0 in /usr/local/lib/python3.8/dist-packages (from tweepy) (1.3.1)\n",
            "Requirement already satisfied: urllib3<1.27,>=1.21.1 in /usr/local/lib/python3.8/dist-packages (from requests<3,>=2.27.0->tweepy) (1.26.14)\n",
            "Requirement already satisfied: certifi>=2017.4.17 in /usr/local/lib/python3.8/dist-packages (from requests<3,>=2.27.0->tweepy) (2022.12.7)\n",
            "Requirement already satisfied: charset-normalizer<4,>=2 in /usr/local/lib/python3.8/dist-packages (from requests<3,>=2.27.0->tweepy) (3.0.1)\n",
            "Requirement already satisfied: idna<4,>=2.5 in /usr/local/lib/python3.8/dist-packages (from requests<3,>=2.27.0->tweepy) (2.10)\n",
            "Installing collected packages: requests, tweepy\n",
            "  Attempting uninstall: requests\n",
            "    Found existing installation: requests 2.25.1\n",
            "    Uninstalling requests-2.25.1:\n",
            "      Successfully uninstalled requests-2.25.1\n",
            "  Attempting uninstall: tweepy\n",
            "    Found existing installation: tweepy 3.10.0\n",
            "    Uninstalling tweepy-3.10.0:\n",
            "      Successfully uninstalled tweepy-3.10.0\n",
            "Successfully installed requests-2.28.2 tweepy-4.12.1\n"
          ]
        },
        {
          "output_type": "display_data",
          "data": {
            "application/vnd.colab-display-data+json": {
              "pip_warning": {
                "packages": [
                  "requests",
                  "tweepy"
                ]
              }
            }
          },
          "metadata": {}
        }
      ]
    },
    {
      "cell_type": "code",
      "source": [
        "!pip install --upgrade boto3"
      ],
      "metadata": {
        "colab": {
          "base_uri": "https://localhost:8080/"
        },
        "id": "j9EDOLuXdg9Z",
        "outputId": "d3bcb46a-04b1-421a-c4ea-8b06c1121d08"
      },
      "execution_count": 1,
      "outputs": [
        {
          "output_type": "stream",
          "name": "stdout",
          "text": [
            "Looking in indexes: https://pypi.org/simple, https://us-python.pkg.dev/colab-wheels/public/simple/\n",
            "Collecting boto3\n",
            "  Downloading boto3-1.26.85-py3-none-any.whl (134 kB)\n",
            "\u001b[2K     \u001b[90m━━━━━━━━━━━━━━━━━━━━━━━━━━━━━━━━━━━━━━━\u001b[0m \u001b[32m134.7/134.7 KB\u001b[0m \u001b[31m2.5 MB/s\u001b[0m eta \u001b[36m0:00:00\u001b[0m\n",
            "\u001b[?25hCollecting jmespath<2.0.0,>=0.7.1\n",
            "  Downloading jmespath-1.0.1-py3-none-any.whl (20 kB)\n",
            "Collecting botocore<1.30.0,>=1.29.85\n",
            "  Downloading botocore-1.29.85-py3-none-any.whl (10.5 MB)\n",
            "\u001b[2K     \u001b[90m━━━━━━━━━━━━━━━━━━━━━━━━━━━━━━━━━━━━━━━━\u001b[0m \u001b[32m10.5/10.5 MB\u001b[0m \u001b[31m51.3 MB/s\u001b[0m eta \u001b[36m0:00:00\u001b[0m\n",
            "\u001b[?25hCollecting s3transfer<0.7.0,>=0.6.0\n",
            "  Downloading s3transfer-0.6.0-py3-none-any.whl (79 kB)\n",
            "\u001b[2K     \u001b[90m━━━━━━━━━━━━━━━━━━━━━━━━━━━━━━━━━━━━━━━━\u001b[0m \u001b[32m79.6/79.6 KB\u001b[0m \u001b[31m8.6 MB/s\u001b[0m eta \u001b[36m0:00:00\u001b[0m\n",
            "\u001b[?25hRequirement already satisfied: urllib3<1.27,>=1.25.4 in /usr/local/lib/python3.8/dist-packages (from botocore<1.30.0,>=1.29.85->boto3) (1.26.14)\n",
            "Requirement already satisfied: python-dateutil<3.0.0,>=2.1 in /usr/local/lib/python3.8/dist-packages (from botocore<1.30.0,>=1.29.85->boto3) (2.8.2)\n",
            "Requirement already satisfied: six>=1.5 in /usr/local/lib/python3.8/dist-packages (from python-dateutil<3.0.0,>=2.1->botocore<1.30.0,>=1.29.85->boto3) (1.15.0)\n",
            "Installing collected packages: jmespath, botocore, s3transfer, boto3\n",
            "Successfully installed boto3-1.26.85 botocore-1.29.85 jmespath-1.0.1 s3transfer-0.6.0\n"
          ]
        }
      ]
    },
    {
      "cell_type": "code",
      "execution_count": 2,
      "metadata": {
        "id": "rWR7KYG5_-Ov",
        "colab": {
          "base_uri": "https://localhost:8080/"
        },
        "outputId": "d7807fb9-7319-4d9f-999c-bbce92471fdc"
      },
      "outputs": [
        {
          "output_type": "stream",
          "name": "stdout",
          "text": [
            "***************** Tweets added in CSV file **************************\n",
            "**************** CSV file uploaded to AWS S3 *******************\n",
            "**************** Reading CSV file from AWS S3 ******************\n",
            "************** Successful S3 get_object response. Status - 200 ***********************\n",
            "            Keyword             tweet_id                created_at  \\\n",
            "0  machine+learning  1632926881032073217  2023-03-07T02:11:21.000Z   \n",
            "1  machine+learning  1632926840619663361  2023-03-07T02:11:11.000Z   \n",
            "2  machine+learning  1632926829525999616  2023-03-07T02:11:09.000Z   \n",
            "3  machine+learning  1632926745174196224  2023-03-07T02:10:49.000Z   \n",
            "4  machine+learning  1632926740853973000  2023-03-07T02:10:47.000Z   \n",
            "\n",
            "                                                text  \n",
            "0  List of my Favorite Indicators so far \\n\\n1. L...  \n",
            "1  New study shows how machine learning can impro...  \n",
            "2  RT @ONPASSIVE: Synthetic data plays a crucial ...  \n",
            "3  Introduction to Machine Learning and it’s type...  \n",
            "4  Machine Learning itu Apasih?\\nhttps://t.co/ZoU...  \n"
          ]
        }
      ],
      "source": [
        "import tweepy\n",
        "import csv\n",
        "import boto3\n",
        "import pandas as pd\n",
        "import io\n",
        "\n",
        "\n",
        "TWEET_FIELDS = [\n",
        "    'id',\n",
        "    'text',\n",
        "    'created_at'\n",
        "]\n",
        "\n",
        "# AWS credentials\n",
        "access_key = \"*******************\"\n",
        "secret_key = \"*******************\"\n",
        "\n",
        "\n",
        "# Twitter API credentials\n",
        "BEARER_TOKEN: str = \"*******************\"\n",
        "\n",
        "query = \"machine+learning\" #specify any query string\n",
        "\n",
        "CLIENT = tweepy.Client(bearer_token=BEARER_TOKEN)\n",
        "\n",
        "response = CLIENT.search_recent_tweets(query=query,tweet_fields=TWEET_FIELDS,max_results=100)\n",
        "\n",
        "tweets = []\n",
        "\n",
        "tweets += [tweet.data for tweet in response[0]]\n",
        "\n",
        "filename = f'{query}_tweets.csv' \n",
        "\n",
        "# Create a CSV file to store the tweets\n",
        "with open(filename, 'w') as file:\n",
        "    writer = csv.writer(file, lineterminator = \"\\n\")\n",
        "    writer.writerow(['Keyword', 'tweet_id', 'created_at','text'])\n",
        "\n",
        "    # Iterate over the tweets and write them to the CSV file\n",
        "    for tweet in tweets:\n",
        "        writer.writerow([query,tweet['id'],tweet['created_at'],tweet['text']])\n",
        "\n",
        "print(\"***************** Tweets added in CSV file **************************\")\n",
        "\n",
        "\n",
        "# Authenticate to AWS\n",
        "s3 = boto3.client('s3', aws_access_key_id=access_key, aws_secret_access_key=secret_key)\n",
        "\n",
        "bucket_name = 'testbucketkrutik'\n",
        "\n",
        "key = filename #path to file\n",
        "\n",
        "\n",
        "################### Upload the CSV file to S3##########################\n",
        "s3.upload_file(Filename=filename, Bucket=bucket_name, Key=key)\n",
        "print(\"**************** CSV file uploaded to AWS S3 *******************\")\n",
        "\n",
        "\n",
        "print(\"**************** Reading CSV file from AWS S3 ******************\")\n",
        "\n",
        "\n",
        "#read csv file from S3\n",
        "response = s3.get_object(Bucket=bucket_name, Key=key)\n",
        "\n",
        "status = response.get(\"ResponseMetadata\", {}).get(\"HTTPStatusCode\")\n",
        "\n",
        "if status == 200:\n",
        "    print(f\"************** Successful S3 get_object response. Status - {status } ***********************\")\n",
        "    df = pd.read_csv(io.BytesIO(response[\"Body\"].read()), encoding='utf8')\n",
        "    print(df.head())\n",
        "else:\n",
        "    print(f\"************ Unsuccessful S3 get_object response. Status - {status} ***********************\")\n"
      ]
    },
    {
      "cell_type": "code",
      "source": [
        "df.head()"
      ],
      "metadata": {
        "colab": {
          "base_uri": "https://localhost:8080/",
          "height": 206
        },
        "id": "KXP5kSZs0kRe",
        "outputId": "6b97c081-6a16-483a-a56a-0b38e2c0a0d9"
      },
      "execution_count": 3,
      "outputs": [
        {
          "output_type": "execute_result",
          "data": {
            "text/plain": [
              "            Keyword             tweet_id                created_at  \\\n",
              "0  machine+learning  1632926881032073217  2023-03-07T02:11:21.000Z   \n",
              "1  machine+learning  1632926840619663361  2023-03-07T02:11:11.000Z   \n",
              "2  machine+learning  1632926829525999616  2023-03-07T02:11:09.000Z   \n",
              "3  machine+learning  1632926745174196224  2023-03-07T02:10:49.000Z   \n",
              "4  machine+learning  1632926740853973000  2023-03-07T02:10:47.000Z   \n",
              "\n",
              "                                                text  \n",
              "0  List of my Favorite Indicators so far \\n\\n1. L...  \n",
              "1  New study shows how machine learning can impro...  \n",
              "2  RT @ONPASSIVE: Synthetic data plays a crucial ...  \n",
              "3  Introduction to Machine Learning and it’s type...  \n",
              "4  Machine Learning itu Apasih?\\nhttps://t.co/ZoU...  "
            ],
            "text/html": [
              "\n",
              "  <div id=\"df-e46f6789-0cfe-4484-aff5-1e293f26f9f6\">\n",
              "    <div class=\"colab-df-container\">\n",
              "      <div>\n",
              "<style scoped>\n",
              "    .dataframe tbody tr th:only-of-type {\n",
              "        vertical-align: middle;\n",
              "    }\n",
              "\n",
              "    .dataframe tbody tr th {\n",
              "        vertical-align: top;\n",
              "    }\n",
              "\n",
              "    .dataframe thead th {\n",
              "        text-align: right;\n",
              "    }\n",
              "</style>\n",
              "<table border=\"1\" class=\"dataframe\">\n",
              "  <thead>\n",
              "    <tr style=\"text-align: right;\">\n",
              "      <th></th>\n",
              "      <th>Keyword</th>\n",
              "      <th>tweet_id</th>\n",
              "      <th>created_at</th>\n",
              "      <th>text</th>\n",
              "    </tr>\n",
              "  </thead>\n",
              "  <tbody>\n",
              "    <tr>\n",
              "      <th>0</th>\n",
              "      <td>machine+learning</td>\n",
              "      <td>1632926881032073217</td>\n",
              "      <td>2023-03-07T02:11:21.000Z</td>\n",
              "      <td>List of my Favorite Indicators so far \\n\\n1. L...</td>\n",
              "    </tr>\n",
              "    <tr>\n",
              "      <th>1</th>\n",
              "      <td>machine+learning</td>\n",
              "      <td>1632926840619663361</td>\n",
              "      <td>2023-03-07T02:11:11.000Z</td>\n",
              "      <td>New study shows how machine learning can impro...</td>\n",
              "    </tr>\n",
              "    <tr>\n",
              "      <th>2</th>\n",
              "      <td>machine+learning</td>\n",
              "      <td>1632926829525999616</td>\n",
              "      <td>2023-03-07T02:11:09.000Z</td>\n",
              "      <td>RT @ONPASSIVE: Synthetic data plays a crucial ...</td>\n",
              "    </tr>\n",
              "    <tr>\n",
              "      <th>3</th>\n",
              "      <td>machine+learning</td>\n",
              "      <td>1632926745174196224</td>\n",
              "      <td>2023-03-07T02:10:49.000Z</td>\n",
              "      <td>Introduction to Machine Learning and it’s type...</td>\n",
              "    </tr>\n",
              "    <tr>\n",
              "      <th>4</th>\n",
              "      <td>machine+learning</td>\n",
              "      <td>1632926740853973000</td>\n",
              "      <td>2023-03-07T02:10:47.000Z</td>\n",
              "      <td>Machine Learning itu Apasih?\\nhttps://t.co/ZoU...</td>\n",
              "    </tr>\n",
              "  </tbody>\n",
              "</table>\n",
              "</div>\n",
              "      <button class=\"colab-df-convert\" onclick=\"convertToInteractive('df-e46f6789-0cfe-4484-aff5-1e293f26f9f6')\"\n",
              "              title=\"Convert this dataframe to an interactive table.\"\n",
              "              style=\"display:none;\">\n",
              "        \n",
              "  <svg xmlns=\"http://www.w3.org/2000/svg\" height=\"24px\"viewBox=\"0 0 24 24\"\n",
              "       width=\"24px\">\n",
              "    <path d=\"M0 0h24v24H0V0z\" fill=\"none\"/>\n",
              "    <path d=\"M18.56 5.44l.94 2.06.94-2.06 2.06-.94-2.06-.94-.94-2.06-.94 2.06-2.06.94zm-11 1L8.5 8.5l.94-2.06 2.06-.94-2.06-.94L8.5 2.5l-.94 2.06-2.06.94zm10 10l.94 2.06.94-2.06 2.06-.94-2.06-.94-.94-2.06-.94 2.06-2.06.94z\"/><path d=\"M17.41 7.96l-1.37-1.37c-.4-.4-.92-.59-1.43-.59-.52 0-1.04.2-1.43.59L10.3 9.45l-7.72 7.72c-.78.78-.78 2.05 0 2.83L4 21.41c.39.39.9.59 1.41.59.51 0 1.02-.2 1.41-.59l7.78-7.78 2.81-2.81c.8-.78.8-2.07 0-2.86zM5.41 20L4 18.59l7.72-7.72 1.47 1.35L5.41 20z\"/>\n",
              "  </svg>\n",
              "      </button>\n",
              "      \n",
              "  <style>\n",
              "    .colab-df-container {\n",
              "      display:flex;\n",
              "      flex-wrap:wrap;\n",
              "      gap: 12px;\n",
              "    }\n",
              "\n",
              "    .colab-df-convert {\n",
              "      background-color: #E8F0FE;\n",
              "      border: none;\n",
              "      border-radius: 50%;\n",
              "      cursor: pointer;\n",
              "      display: none;\n",
              "      fill: #1967D2;\n",
              "      height: 32px;\n",
              "      padding: 0 0 0 0;\n",
              "      width: 32px;\n",
              "    }\n",
              "\n",
              "    .colab-df-convert:hover {\n",
              "      background-color: #E2EBFA;\n",
              "      box-shadow: 0px 1px 2px rgba(60, 64, 67, 0.3), 0px 1px 3px 1px rgba(60, 64, 67, 0.15);\n",
              "      fill: #174EA6;\n",
              "    }\n",
              "\n",
              "    [theme=dark] .colab-df-convert {\n",
              "      background-color: #3B4455;\n",
              "      fill: #D2E3FC;\n",
              "    }\n",
              "\n",
              "    [theme=dark] .colab-df-convert:hover {\n",
              "      background-color: #434B5C;\n",
              "      box-shadow: 0px 1px 3px 1px rgba(0, 0, 0, 0.15);\n",
              "      filter: drop-shadow(0px 1px 2px rgba(0, 0, 0, 0.3));\n",
              "      fill: #FFFFFF;\n",
              "    }\n",
              "  </style>\n",
              "\n",
              "      <script>\n",
              "        const buttonEl =\n",
              "          document.querySelector('#df-e46f6789-0cfe-4484-aff5-1e293f26f9f6 button.colab-df-convert');\n",
              "        buttonEl.style.display =\n",
              "          google.colab.kernel.accessAllowed ? 'block' : 'none';\n",
              "\n",
              "        async function convertToInteractive(key) {\n",
              "          const element = document.querySelector('#df-e46f6789-0cfe-4484-aff5-1e293f26f9f6');\n",
              "          const dataTable =\n",
              "            await google.colab.kernel.invokeFunction('convertToInteractive',\n",
              "                                                     [key], {});\n",
              "          if (!dataTable) return;\n",
              "\n",
              "          const docLinkHtml = 'Like what you see? Visit the ' +\n",
              "            '<a target=\"_blank\" href=https://colab.research.google.com/notebooks/data_table.ipynb>data table notebook</a>'\n",
              "            + ' to learn more about interactive tables.';\n",
              "          element.innerHTML = '';\n",
              "          dataTable['output_type'] = 'display_data';\n",
              "          await google.colab.output.renderOutput(dataTable, element);\n",
              "          const docLink = document.createElement('div');\n",
              "          docLink.innerHTML = docLinkHtml;\n",
              "          element.appendChild(docLink);\n",
              "        }\n",
              "      </script>\n",
              "    </div>\n",
              "  </div>\n",
              "  "
            ]
          },
          "metadata": {},
          "execution_count": 3
        }
      ]
    },
    {
      "cell_type": "code",
      "source": [],
      "metadata": {
        "id": "8qiD9cnM06qT"
      },
      "execution_count": null,
      "outputs": []
    }
  ]
}